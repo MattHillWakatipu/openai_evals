{
 "cells": [
  {
   "cell_type": "code",
   "execution_count": 2,
   "metadata": {
    "collapsed": true
   },
   "outputs": [],
   "source": [
    "import numpy as np\n",
    "import openai\n",
    "import pandas as pd\n",
    "\n",
    "COMPLETIONS_MODEL = 'text-davinci-003'\n",
    "EMBEDDING_MODEL = 'text-embedding-ada-002'\n",
    "openai.api_key = '' # FIXME don't post your API key in a public repo 🤪"
   ]
  },
  {
   "cell_type": "markdown",
   "source": [
    "# Load in the card database\n",
    "\n",
    "As we will be using a knowledge base to aid the model in giving factual answers we will need to load said database in, I have opted to use a pandas dataframe for said knowledge base."
   ],
   "metadata": {
    "collapsed": false
   }
  },
  {
   "cell_type": "code",
   "execution_count": 3,
   "outputs": [
    {
     "name": "stdout",
     "output_type": "stream",
     "text": [
      "length: 2\n"
     ]
    },
    {
     "data": {
      "text/plain": "                                                             description\nname                                                                    \nAncestral Empowerment  Ancestral Empowerment is a 'Ninja – Attack Rea...\nAlpha Rampage          Alpha Rampage is a 'Brute Action – Attack' car...",
      "text/html": "<div>\n<style scoped>\n    .dataframe tbody tr th:only-of-type {\n        vertical-align: middle;\n    }\n\n    .dataframe tbody tr th {\n        vertical-align: top;\n    }\n\n    .dataframe thead th {\n        text-align: right;\n    }\n</style>\n<table border=\"1\" class=\"dataframe\">\n  <thead>\n    <tr style=\"text-align: right;\">\n      <th></th>\n      <th>description</th>\n    </tr>\n    <tr>\n      <th>name</th>\n      <th></th>\n    </tr>\n  </thead>\n  <tbody>\n    <tr>\n      <th>Ancestral Empowerment</th>\n      <td>Ancestral Empowerment is a 'Ninja – Attack Rea...</td>\n    </tr>\n    <tr>\n      <th>Alpha Rampage</th>\n      <td>Alpha Rampage is a 'Brute Action – Attack' car...</td>\n    </tr>\n  </tbody>\n</table>\n</div>"
     },
     "execution_count": 3,
     "metadata": {},
     "output_type": "execute_result"
    }
   ],
   "source": [
    "df = pd.read_csv('../data/embedding.csv')\n",
    "df = df.set_index(['name'])\n",
    "print(f'length: {len(df)}')\n",
    "df.sample(2)"
   ],
   "metadata": {
    "collapsed": false
   }
  },
  {
   "cell_type": "markdown",
   "source": [
    "# Create Embeddings\n",
    "\n",
    "By creating an embedding of each card description within the database we can transform the linguistic data contained about each card and transform them into vectors within high dimensional space."
   ],
   "metadata": {
    "collapsed": false
   }
  },
  {
   "cell_type": "code",
   "execution_count": 4,
   "outputs": [],
   "source": [
    "def get_embedding(text: str, model: str=EMBEDDING_MODEL) -> list[float]:\n",
    "    result = openai.Embedding.create(\n",
    "      model=model,\n",
    "      input=text\n",
    "    )\n",
    "    return result['data'][0]['embedding']\n",
    "\n",
    "def compute_doc_embeddings(df: pd.DataFrame) -> dict[tuple[str, str], list[float]]:\n",
    "    \"\"\"\n",
    "    Create an embedding for each row in the dataframe using the OpenAI Embeddings API.\n",
    "\n",
    "    Return a dictionary that maps between each embedding vector and the index of the row that it corresponds to.\n",
    "    \"\"\"\n",
    "    return {\n",
    "        idx: get_embedding(r.description) for idx, r in df.iterrows()\n",
    "    }"
   ],
   "metadata": {
    "collapsed": false
   }
  },
  {
   "cell_type": "markdown",
   "source": [
    "# Compute embeddings"
   ],
   "metadata": {
    "collapsed": false
   }
  },
  {
   "cell_type": "code",
   "execution_count": 5,
   "outputs": [],
   "source": [
    "document_embedding = compute_doc_embeddings(df)"
   ],
   "metadata": {
    "collapsed": false
   }
  },
  {
   "cell_type": "code",
   "execution_count": 6,
   "outputs": [
    {
     "name": "stdout",
     "output_type": "stream",
     "text": [
      "Alpha Rampage : [-0.007986833341419697, -0.02000109851360321, -0.012000659480690956, -0.01263334695249796, -0.006371098570525646]... (1536 entries)\n"
     ]
    }
   ],
   "source": [
    "# An example embedding:\n",
    "example_entry = list(document_embedding.items())[0]\n",
    "print(f\"{example_entry[0]} : {example_entry[1][:5]}... ({len(example_entry[1])} entries)\")"
   ],
   "metadata": {
    "collapsed": false
   }
  },
  {
   "cell_type": "markdown",
   "source": [
    "# Find the most similar document\n",
    "\n",
    "Once the cards have been transformed into vectors we are able to calculate their relatedness with traditional distance functions such as Euclidean distance. In this case because the OpenAI embeddings are normalized, a Cosine similarity will be able to be performed slightly faster but will result in an identical ranking as Euclidean distance."
   ],
   "metadata": {
    "collapsed": false
   }
  },
  {
   "cell_type": "code",
   "execution_count": 7,
   "outputs": [],
   "source": [
    "def vector_similarity(x: list[float], y: list[float]) -> float:\n",
    "    \"\"\"\n",
    "    Returns the similarity between two vectors.\n",
    "\n",
    "    Because OpenAI Embeddings are normalized to length 1, the cosine similarity is the same as the dot product.\n",
    "    \"\"\"\n",
    "    return np.dot(np.array(x), np.array(y))\n",
    "\n",
    "def order_document_sections_by_query_similarity(query: str, contexts: dict[(str, str), np.array]) -> list[(float, (str, str))]:\n",
    "    \"\"\"\n",
    "    Find the query embedding for the supplied query, and compare it against all of the pre-calculated document embeddings\n",
    "    to find the most relevant sections.\n",
    "\n",
    "    Return the list of document sections, sorted by relevance in descending order.\n",
    "    \"\"\"\n",
    "    query_embedding = get_embedding(query)\n",
    "\n",
    "    document_similarities = sorted([\n",
    "        (vector_similarity(query_embedding, doc_embedding), doc_index) for doc_index, doc_embedding in contexts.items()\n",
    "    ], reverse=True)\n",
    "\n",
    "    return document_similarities"
   ],
   "metadata": {
    "collapsed": false
   }
  },
  {
   "cell_type": "code",
   "execution_count": 8,
   "outputs": [
    {
     "data": {
      "text/plain": "[(0.8645458537314629, 'Ancestral Empowerment'),\n (0.7785378749394383, 'Alpha Rampage')]"
     },
     "execution_count": 8,
     "metadata": {},
     "output_type": "execute_result"
    }
   ],
   "source": [
    "order_document_sections_by_query_similarity(\"In the card game Flesh and Blood, what does the card Ancestral Empowerment do?\", document_embedding)[:5]"
   ],
   "metadata": {
    "collapsed": false
   }
  },
  {
   "cell_type": "markdown",
   "source": [
    "# Add most relevant section to the query prompt\n",
    "\n",
    "When constructing prompts for the system we can calculate the distance between the prompt and the cards in the knowledge base, and fetch the most relevant cards. By including the nth most relevant context we are able to aid the system in providing more factual answers."
   ],
   "metadata": {
    "collapsed": false
   }
  },
  {
   "cell_type": "code",
   "execution_count": 19,
   "outputs": [],
   "source": [
    "SEPARATOR = \"\\n\\n* \"\n",
    "ENCODING = \"gpt2\"  # encoding for text-davinci-003"
   ],
   "metadata": {
    "collapsed": false
   }
  },
  {
   "cell_type": "code",
   "execution_count": 30,
   "outputs": [],
   "source": [
    "def construct_prompt(question: str, context_embeddings: dict, df: pd.DataFrame) -> str:\n",
    "    \"\"\"\n",
    "    Fetch relevant\n",
    "    \"\"\"\n",
    "    most_relevant_document_sections = order_document_sections_by_query_similarity(question, context_embeddings)\n",
    "\n",
    "    chosen_sections = []\n",
    "    chosen_sections_len = 0\n",
    "    chosen_sections_indexes = []\n",
    "\n",
    "    # Add two most relevant contexts\n",
    "    for _, section_index in most_relevant_document_sections[:2]:\n",
    "        document_section = df.loc[section_index]\n",
    "\n",
    "        chosen_sections.append(SEPARATOR + document_section.description.replace(\"\\r\\n\", \" \"))\n",
    "        chosen_sections_indexes.append(str(section_index))\n",
    "\n",
    "    # Useful diagnostic information\n",
    "    print(f\"Selected {len(chosen_sections)} document sections:\")\n",
    "    print(\"\\n\".join(chosen_sections_indexes))\n",
    "\n",
    "    header = \"\"\"Answer the question as truthfully as possible using the provided context, and if the answer is not contained within the text below, say \"I don't know.\"\\n\\nContext:\"\"\"\n",
    "\n",
    "    return header + \"\".join(chosen_sections) + \"\\n\\n Q: \" + question + \"\\n A:\""
   ],
   "metadata": {
    "collapsed": false
   }
  },
  {
   "cell_type": "code",
   "execution_count": 31,
   "outputs": [
    {
     "name": "stdout",
     "output_type": "stream",
     "text": [
      "Selected 2 document sections:\n",
      "Ancestral Empowerment\n",
      "Alpha Rampage\n",
      "===\n",
      " Answer the question as truthfully as possible using the provided context, and if the answer is not contained within the text below, say \"I don't know.\"\n",
      "\n",
      "Context:\n",
      "\n",
      "* Ancestral Empowerment is a 'Ninja – Attack Reaction' card from the 'Welcome to Rathe' set. It costs 0, pitches for 1, defends for 3, has None power, and has the abilities; Target Ninja attack action card gains +1{p}.\n",
      "\n",
      "Draw a card.\n",
      "\n",
      "* Alpha Rampage is a 'Brute Action – Attack' card from the 'Welcome to Rathe' set. It costs 3, pitches for 1, defends for 3, has 9 power, and has the abilities; **Rhinar Specialization**\n",
      "\n",
      "As an additional cost to play Alpha Rampage, discard a random card.\n",
      "\n",
      "When you attack with Alpha Rampage, **intimidate**.\n",
      "\n",
      " Q: In the card game Flesh and Blood, what does the card Ancestral Empowerment do? Make sure to include information when appropriate for the class, card type, cost, pitch, defence, power, and any abilities.\n",
      " A:\n"
     ]
    }
   ],
   "source": [
    "prompt = construct_prompt(\n",
    "    'In the card game Flesh and Blood, what does the card Ancestral Empowerment do? '\n",
    "    'Make sure to include information when appropriate for the class, card type, cost, pitch, defence, power, and any abilities.',\n",
    "    document_embedding,\n",
    "    df\n",
    ")\n",
    "\n",
    "print(\"===\\n\", prompt)"
   ],
   "metadata": {
    "collapsed": false
   }
  },
  {
   "cell_type": "markdown",
   "source": [
    "# Use the prompt with context"
   ],
   "metadata": {
    "collapsed": false
   }
  },
  {
   "cell_type": "code",
   "execution_count": 22,
   "outputs": [],
   "source": [
    "COMPLETIONS_API_PARAMS = {\n",
    "    # We use temperature of 0.0 because it gives the most predictable, factual answer.\n",
    "    \"temperature\": 0.0,\n",
    "    \"max_tokens\": 300,\n",
    "    \"model\": COMPLETIONS_MODEL,\n",
    "}"
   ],
   "metadata": {
    "collapsed": false
   }
  },
  {
   "cell_type": "code",
   "execution_count": 23,
   "outputs": [],
   "source": [
    "def answer_query_with_context(\n",
    "    query: str,\n",
    "    df: pd.DataFrame,\n",
    "    document_embeddings: dict[(str, str), np.array],\n",
    "    show_prompt: bool = False\n",
    ") -> str:\n",
    "    prompt = construct_prompt(\n",
    "        query,\n",
    "        document_embeddings,\n",
    "        df\n",
    "    )\n",
    "\n",
    "    if show_prompt:\n",
    "        print(prompt)\n",
    "\n",
    "    response = openai.Completion.create(\n",
    "                prompt=prompt,\n",
    "                **COMPLETIONS_API_PARAMS\n",
    "            )\n",
    "\n",
    "    return response[\"choices\"][0][\"text\"].strip(\" \\n\")"
   ],
   "metadata": {
    "collapsed": false
   }
  },
  {
   "cell_type": "code",
   "execution_count": 24,
   "outputs": [],
   "source": [
    "def answer_query_without_context(\n",
    "    query: str,\n",
    "    show_prompt: bool = False\n",
    ") -> str:\n",
    "\n",
    "    if show_prompt:\n",
    "        print(prompt)\n",
    "\n",
    "    response = openai.Completion.create(\n",
    "                prompt=query,\n",
    "                **COMPLETIONS_API_PARAMS\n",
    "            )\n",
    "\n",
    "    return response[\"choices\"][0][\"text\"].strip(\" \\n\")"
   ],
   "metadata": {
    "collapsed": false
   }
  },
  {
   "cell_type": "code",
   "execution_count": 33,
   "outputs": [
    {
     "data": {
      "text/plain": "'Ancestral Empowerment is a Hero card from the Flesh and Blood trading card game. It is a Rare card of the Hero type, and it costs 4 Resources to play. It has a Pitch of 4, a Defence of 4, and a Power of 4.\\n\\nAncestral Empowerment has the following ability: \"When Ancestral Empowerment enters play, you may search your deck for a card with the same name as a card in your graveyard and put it into your hand. Shuffle your deck afterwards.\" This ability allows you to search your deck for a card with the same name as a card in your graveyard and put it into your hand. This can be a great way to get back cards that have been discarded or destroyed.'"
     },
     "execution_count": 33,
     "metadata": {},
     "output_type": "execute_result"
    }
   ],
   "source": [
    "answer_query_without_context('In the card game Flesh and Blood, what does the card '\n",
    "                             'Ancestral Empowerment do? '\n",
    "                             'Make sure to include information when appropriate for the '\n",
    "                             'class, card type, cost, pitch, defence, power, and any abilities.')"
   ],
   "metadata": {
    "collapsed": false
   }
  },
  {
   "cell_type": "markdown",
   "source": [
    "We can see that when the system is not given context it 'hallucinates' plausible sounding information, however, it is unfortunately completely fabricated."
   ],
   "metadata": {
    "collapsed": false
   }
  },
  {
   "cell_type": "code",
   "execution_count": 34,
   "outputs": [
    {
     "name": "stdout",
     "output_type": "stream",
     "text": [
      "Selected 2 document sections:\n",
      "Ancestral Empowerment\n",
      "Alpha Rampage\n"
     ]
    },
    {
     "data": {
      "text/plain": "\"Ancestral Empowerment is a 'Ninja – Attack Reaction' card from the 'Welcome to Rathe' set. It costs 0, pitches for 1, defends for 3, has None power, and has the ability; Target Ninja attack action card gains +1{p}.\""
     },
     "execution_count": 34,
     "metadata": {},
     "output_type": "execute_result"
    }
   ],
   "source": [
    "answer_query_with_context('In the card game Flesh and Blood, what does the card '\n",
    "                          'Ancestral Empowerment do? '\n",
    "                          'Make sure to include information when appropriate for the '\n",
    "                          'class, card type, cost, pitch, defence, power, and any abilities.',\n",
    "                          df,\n",
    "                          document_embedding)"
   ],
   "metadata": {
    "collapsed": false
   }
  },
  {
   "cell_type": "markdown",
   "source": [
    "When provided with the relevant context we see that the 'hallucination' problem is greatly mitigated, however, we do see that the model is copying the information within the context verbatim, which is a major limitation of this approach."
   ],
   "metadata": {
    "collapsed": false
   }
  }
 ],
 "metadata": {
  "kernelspec": {
   "display_name": "Python 3",
   "language": "python",
   "name": "python3"
  },
  "language_info": {
   "codemirror_mode": {
    "name": "ipython",
    "version": 2
   },
   "file_extension": ".py",
   "mimetype": "text/x-python",
   "name": "python",
   "nbconvert_exporter": "python",
   "pygments_lexer": "ipython2",
   "version": "2.7.6"
  }
 },
 "nbformat": 4,
 "nbformat_minor": 0
}
