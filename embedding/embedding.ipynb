{
 "cells": [
  {
   "cell_type": "code",
   "execution_count": 79,
   "metadata": {
    "collapsed": true,
    "ExecuteTime": {
     "end_time": "2023-06-12T03:37:21.448330700Z",
     "start_time": "2023-06-12T03:37:21.406407500Z"
    }
   },
   "outputs": [],
   "source": [
    "import numpy as np\n",
    "import openai\n",
    "import pandas as pd\n",
    "\n",
    "COMPLETIONS_MODEL = 'gpt-3.5-turbo'\n",
    "EMBEDDING_MODEL = 'text-embedding-ada-002'\n",
    "openai.api_key = '' # FIXME don't post your API key in a public repo 🤪"
   ]
  },
  {
   "cell_type": "markdown",
   "source": [
    "# Load in the card database\n",
    "\n",
    "As we will be using a knowledge base to aid the model in giving factual answers we will need to load said database in, I have opted to use a pandas dataframe for said knowledge base."
   ],
   "metadata": {
    "collapsed": false
   }
  },
  {
   "cell_type": "code",
   "execution_count": 7,
   "outputs": [
    {
     "name": "stdout",
     "output_type": "stream",
     "text": [
      "length: 226\n"
     ]
    },
    {
     "data": {
      "text/plain": "                                                       description\nname                                                              \nTome of Fyendal  Tome of Fyendal is a 'Generic Action' card fro...\nNimblism (Blue)  Nimblism (Blue) is a 'Generic Action' card fro...",
      "text/html": "<div>\n<style scoped>\n    .dataframe tbody tr th:only-of-type {\n        vertical-align: middle;\n    }\n\n    .dataframe tbody tr th {\n        vertical-align: top;\n    }\n\n    .dataframe thead th {\n        text-align: right;\n    }\n</style>\n<table border=\"1\" class=\"dataframe\">\n  <thead>\n    <tr style=\"text-align: right;\">\n      <th></th>\n      <th>description</th>\n    </tr>\n    <tr>\n      <th>name</th>\n      <th></th>\n    </tr>\n  </thead>\n  <tbody>\n    <tr>\n      <th>Tome of Fyendal</th>\n      <td>Tome of Fyendal is a 'Generic Action' card fro...</td>\n    </tr>\n    <tr>\n      <th>Nimblism (Blue)</th>\n      <td>Nimblism (Blue) is a 'Generic Action' card fro...</td>\n    </tr>\n  </tbody>\n</table>\n</div>"
     },
     "execution_count": 7,
     "metadata": {},
     "output_type": "execute_result"
    }
   ],
   "source": [
    "df = pd.read_csv('../data/embedding.csv')\n",
    "df = df.set_index(['name'])\n",
    "print(f'length: {len(df)}')\n",
    "df.sample(2)"
   ],
   "metadata": {
    "collapsed": false,
    "ExecuteTime": {
     "end_time": "2023-06-12T02:00:47.393153Z",
     "start_time": "2023-06-12T02:00:47.362675900Z"
    }
   }
  },
  {
   "cell_type": "markdown",
   "source": [
    "# Create Embeddings\n",
    "\n",
    "By creating an embedding of each card description within the database we can transform the linguistic data contained about each card and transform them into vectors within high dimensional space."
   ],
   "metadata": {
    "collapsed": false
   }
  },
  {
   "cell_type": "code",
   "execution_count": 8,
   "outputs": [],
   "source": [
    "def get_embedding(text: str, model: str=EMBEDDING_MODEL) -> list[float]:\n",
    "    result = openai.Embedding.create(\n",
    "      model=model,\n",
    "      input=text\n",
    "    )\n",
    "    return result['data'][0]['embedding']\n",
    "\n",
    "def compute_doc_embeddings(df: pd.DataFrame) -> dict[tuple[str, str], list[float]]:\n",
    "    \"\"\"\n",
    "    Create an embedding for each row in the dataframe using the OpenAI Embeddings API.\n",
    "\n",
    "    Return a dictionary that maps between each embedding vector and the index of the row that it corresponds to.\n",
    "    \"\"\"\n",
    "    return {\n",
    "        idx: get_embedding(r.description) for idx, r in df.iterrows()\n",
    "    }"
   ],
   "metadata": {
    "collapsed": false,
    "ExecuteTime": {
     "end_time": "2023-06-12T02:00:50.515272700Z",
     "start_time": "2023-06-12T02:00:50.464273400Z"
    }
   }
  },
  {
   "cell_type": "markdown",
   "source": [
    "# Compute embeddings"
   ],
   "metadata": {
    "collapsed": false
   }
  },
  {
   "cell_type": "code",
   "execution_count": 9,
   "outputs": [],
   "source": [
    "document_embedding = compute_doc_embeddings(df)"
   ],
   "metadata": {
    "collapsed": false,
    "ExecuteTime": {
     "end_time": "2023-06-12T02:02:11.841013100Z",
     "start_time": "2023-06-12T02:00:52.721122Z"
    }
   }
  },
  {
   "cell_type": "code",
   "execution_count": 10,
   "outputs": [
    {
     "name": "stdout",
     "output_type": "stream",
     "text": [
      "Alpha Rampage : [-0.008852995000779629, -0.020217960700392723, -0.01150753628462553, -0.011460011824965477, -0.007990778423845768]... (1536 entries)\n"
     ]
    }
   ],
   "source": [
    "# An example embedding:\n",
    "example_entry = list(document_embedding.items())[0]\n",
    "print(f\"{example_entry[0]} : {example_entry[1][:5]}... ({len(example_entry[1])} entries)\")"
   ],
   "metadata": {
    "collapsed": false,
    "ExecuteTime": {
     "end_time": "2023-06-12T02:03:02.336923300Z",
     "start_time": "2023-06-12T02:03:02.296926600Z"
    }
   }
  },
  {
   "cell_type": "markdown",
   "source": [
    "# Find the most similar document\n",
    "\n",
    "Once the cards have been transformed into vectors we are able to calculate their relatedness with traditional distance functions such as Euclidean distance. In this case because the OpenAI embeddings are normalized, a Cosine similarity will be able to be performed slightly faster but will result in an identical ranking as Euclidean distance."
   ],
   "metadata": {
    "collapsed": false
   }
  },
  {
   "cell_type": "code",
   "execution_count": 11,
   "outputs": [],
   "source": [
    "def vector_similarity(x: list[float], y: list[float]) -> float:\n",
    "    \"\"\"\n",
    "    Returns the similarity between two vectors.\n",
    "\n",
    "    Because OpenAI Embeddings are normalized to length 1, the cosine similarity is the same as the dot product.\n",
    "    \"\"\"\n",
    "    return np.dot(np.array(x), np.array(y))\n",
    "\n",
    "def order_document_sections_by_query_similarity(query: str, contexts: dict[(str, str), np.array]) -> list[(float, (str, str))]:\n",
    "    \"\"\"\n",
    "    Find the query embedding for the supplied query, and compare it against all of the pre-calculated document embeddings\n",
    "    to find the most relevant sections.\n",
    "\n",
    "    Return the list of document sections, sorted by relevance in descending order.\n",
    "    \"\"\"\n",
    "    query_embedding = get_embedding(query)\n",
    "\n",
    "    document_similarities = sorted([\n",
    "        (vector_similarity(query_embedding, doc_embedding), doc_index) for doc_index, doc_embedding in contexts.items()\n",
    "    ], reverse=True)\n",
    "\n",
    "    return document_similarities"
   ],
   "metadata": {
    "collapsed": false,
    "ExecuteTime": {
     "end_time": "2023-06-12T02:04:03.410020500Z",
     "start_time": "2023-06-12T02:04:03.389023300Z"
    }
   }
  },
  {
   "cell_type": "code",
   "execution_count": 12,
   "outputs": [
    {
     "data": {
      "text/plain": "[(0.8664948512095075, 'Ancestral Empowerment'),\n (0.8032107622899627, 'Emerging Power (Red)'),\n (0.8022488010386051, 'Emerging Power (Blue)'),\n (0.7955817057647661, 'Overpower (Red)'),\n (0.7944881357889741, 'Overpower (Blue)')]"
     },
     "execution_count": 12,
     "metadata": {},
     "output_type": "execute_result"
    }
   ],
   "source": [
    "order_document_sections_by_query_similarity(\"In the card game Flesh and Blood, what does the card Ancestral Empowerment do?\", document_embedding)[:5]"
   ],
   "metadata": {
    "collapsed": false,
    "ExecuteTime": {
     "end_time": "2023-06-12T02:04:06.631301600Z",
     "start_time": "2023-06-12T02:04:06.026091800Z"
    }
   }
  },
  {
   "cell_type": "markdown",
   "source": [
    "# Add most relevant section to the query prompt\n",
    "\n",
    "When constructing prompts for the system we can calculate the distance between the prompt and the cards in the knowledge base, and fetch the most relevant cards. By including the nth most relevant context we are able to aid the system in providing more factual answers."
   ],
   "metadata": {
    "collapsed": false
   }
  },
  {
   "cell_type": "code",
   "execution_count": 13,
   "outputs": [],
   "source": [
    "SEPARATOR = \"\\n\\n* \"\n",
    "ENCODING = \"gpt2\"  # encoding for text-davinci-003"
   ],
   "metadata": {
    "collapsed": false,
    "ExecuteTime": {
     "end_time": "2023-06-12T02:04:28.763646200Z",
     "start_time": "2023-06-12T02:04:28.727167600Z"
    }
   }
  },
  {
   "cell_type": "code",
   "execution_count": 14,
   "outputs": [],
   "source": [
    "def construct_prompt(question: str, context_embeddings: dict, df: pd.DataFrame) -> str:\n",
    "    \"\"\"\n",
    "    Fetch relevant\n",
    "    \"\"\"\n",
    "    most_relevant_document_sections = order_document_sections_by_query_similarity(question, context_embeddings)\n",
    "\n",
    "    chosen_sections = []\n",
    "    chosen_sections_len = 0\n",
    "    chosen_sections_indexes = []\n",
    "\n",
    "    # Add two most relevant contexts\n",
    "    for _, section_index in most_relevant_document_sections[:2]:\n",
    "        document_section = df.loc[section_index]\n",
    "\n",
    "        chosen_sections.append(SEPARATOR + document_section.description.replace(\"\\r\\n\", \" \"))\n",
    "        chosen_sections_indexes.append(str(section_index))\n",
    "\n",
    "    # Useful diagnostic information\n",
    "    print(f\"Selected {len(chosen_sections)} document sections:\")\n",
    "    print(\"\\n\".join(chosen_sections_indexes))\n",
    "\n",
    "    header = \"\"\"Answer the question as truthfully as possible using the provided context, and if the answer is not contained within the text below, say \"I don't know.\"\\n\\nContext:\"\"\"\n",
    "\n",
    "    return header + \"\".join(chosen_sections) + \"\\n\\n Q: \" + question + \"\\n A:\""
   ],
   "metadata": {
    "collapsed": false,
    "ExecuteTime": {
     "end_time": "2023-06-12T02:04:32.070750300Z",
     "start_time": "2023-06-12T02:04:32.048703Z"
    }
   }
  },
  {
   "cell_type": "code",
   "execution_count": 15,
   "outputs": [
    {
     "name": "stdout",
     "output_type": "stream",
     "text": [
      "Selected 2 document sections:\n",
      "Ancestral Empowerment\n",
      "Emerging Power (Blue)\n",
      "===\n",
      " Answer the question as truthfully as possible using the provided context, and if the answer is not contained within the text below, say \"I don't know.\"\n",
      "\n",
      "Context:\n",
      "\n",
      "* Ancestral Empowerment is a 'Ninja – Attack Reaction' card from the 'Welcome to Rathe' set. It costs 0, pitches for 1, defends for 3, has None power, and has the abilities; Target Ninja attack action card gains +1{p}.  Draw a card.\n",
      "\n",
      "* Emerging Power (Blue) is a 'Guardian Action – Aura' card from the 'Welcome to Rathe' set. It costs 2, pitches for 3, defends for 3, has None power, and has the abilities; **Go again**  At the beginning of your action phase, destroy Emerging Power then the next Guardian attack action card you play this turn gains +1{p}.\n",
      "\n",
      " Q: In the card game Flesh and Blood, what does the card Ancestral Empowerment do? Make sure to include information when appropriate for the class, card type, cost, pitch, defence, power, and any abilities.\n",
      " A:\n"
     ]
    }
   ],
   "source": [
    "prompt = construct_prompt(\n",
    "    'In the card game Flesh and Blood, what does the card Ancestral Empowerment do? '\n",
    "    'Make sure to include information when appropriate for the class, card type, cost, pitch, defence, power, and any abilities.',\n",
    "    document_embedding,\n",
    "    df\n",
    ")\n",
    "\n",
    "print(\"===\\n\", prompt)"
   ],
   "metadata": {
    "collapsed": false,
    "ExecuteTime": {
     "end_time": "2023-06-12T02:04:35.109971300Z",
     "start_time": "2023-06-12T02:04:34.604140700Z"
    }
   }
  },
  {
   "cell_type": "markdown",
   "source": [
    "# Use the prompt with context"
   ],
   "metadata": {
    "collapsed": false
   }
  },
  {
   "cell_type": "code",
   "execution_count": 35,
   "outputs": [],
   "source": [
    "COMPLETIONS_API_PARAMS = {\n",
    "    # We use temperature of 0.0 because it gives the most predictable, factual answer.\n",
    "    \"temperature\": 0.0,\n",
    "    \"max_tokens\": 300,\n",
    "    \"model\": COMPLETIONS_MODEL,\n",
    "}"
   ],
   "metadata": {
    "collapsed": false,
    "ExecuteTime": {
     "end_time": "2023-06-12T02:08:21.952813900Z",
     "start_time": "2023-06-12T02:08:21.936882500Z"
    }
   }
  },
  {
   "cell_type": "code",
   "execution_count": 72,
   "outputs": [],
   "source": [
    "def answer_query(\n",
    "    query: str,\n",
    "    dataframe: pd.DataFrame,\n",
    "    document_embeddings: dict[(str, str), np.array],\n",
    "    show_prompt: bool = False,\n",
    "    use_embedding: bool = True\n",
    ") -> str:\n",
    "\n",
    "    if use_embedding:\n",
    "        query = construct_prompt(\n",
    "            query,\n",
    "            document_embeddings,\n",
    "            dataframe\n",
    "        )\n",
    "\n",
    "    if show_prompt:\n",
    "        print(query)\n",
    "\n",
    "    response = openai.ChatCompletion.create(\n",
    "        messages=[{\"role\": \"user\", \"content\": query}],\n",
    "        **COMPLETIONS_API_PARAMS\n",
    "    )\n",
    "\n",
    "    return response['choices'][0]['message']['content']"
   ],
   "metadata": {
    "collapsed": false,
    "ExecuteTime": {
     "end_time": "2023-06-12T02:47:10.980120900Z",
     "start_time": "2023-06-12T02:47:10.962096700Z"
    }
   }
  },
  {
   "cell_type": "markdown",
   "source": [
    "## Examples"
   ],
   "metadata": {
    "collapsed": false
   }
  },
  {
   "cell_type": "markdown",
   "source": [
    "### Card within vector database"
   ],
   "metadata": {
    "collapsed": false
   }
  },
  {
   "cell_type": "code",
   "execution_count": 73,
   "outputs": [
    {
     "data": {
      "text/plain": "\"Ancestral Empowerment is a generic action card in Flesh and Blood. It costs 1 resource point to play and has a pitch value of 2. The card has no defence value and does not deal any damage.\\n\\nWhen played, Ancestral Empowerment allows the player to draw two cards from their deck. If the player's hero is a Runeblade, they may also reveal a Runeblade card from their hand and put it on top of their deck.\\n\\nThis card is useful for players who want to quickly cycle through their deck and find the cards they need to win the game. It is especially powerful for Runeblade heroes, who can use it to set up their next turn and ensure they draw the cards they need to execute their strategy.\""
     },
     "execution_count": 73,
     "metadata": {},
     "output_type": "execute_result"
    }
   ],
   "source": [
    "answer_query(query='In the card game Flesh and Blood, what does the card '\n",
    "                   'Ancestral Empowerment do? '\n",
    "                   'Make sure to include information when appropriate for the '\n",
    "                   'class, card type, cost, pitch, defence, power, and any abilities.',\n",
    "             dataframe=df,\n",
    "             document_embeddings=document_embedding,\n",
    "             use_embedding=False)"
   ],
   "metadata": {
    "collapsed": false,
    "ExecuteTime": {
     "end_time": "2023-06-12T02:47:19.284200Z",
     "start_time": "2023-06-12T02:47:12.272383400Z"
    }
   }
  },
  {
   "cell_type": "markdown",
   "source": [
    "We can see that when the system is not given context it 'hallucinates' plausible sounding information, however, it is unfortunately completely fabricated."
   ],
   "metadata": {
    "collapsed": false
   }
  },
  {
   "cell_type": "code",
   "execution_count": 74,
   "outputs": [
    {
     "name": "stdout",
     "output_type": "stream",
     "text": [
      "Selected 2 document sections:\n",
      "Ancestral Empowerment\n",
      "Emerging Power (Blue)\n"
     ]
    },
    {
     "data": {
      "text/plain": "\"Ancestral Empowerment is a 'Ninja – Attack Reaction' card from the 'Welcome to Rathe' set. It costs 0, pitches for 1, defends for 3, has None power, and has the abilities; Target Ninja attack action card gains +1{p}. Draw a card.\""
     },
     "execution_count": 74,
     "metadata": {},
     "output_type": "execute_result"
    }
   ],
   "source": [
    "answer_query(query='In the card game Flesh and Blood, what does the card '\n",
    "                   'Ancestral Empowerment do? '\n",
    "                   'Make sure to include information when appropriate for the '\n",
    "                   'class, card type, cost, pitch, defence, power, and any abilities.',\n",
    "             dataframe=df,\n",
    "             document_embeddings=document_embedding,\n",
    "             use_embedding=True)"
   ],
   "metadata": {
    "collapsed": false,
    "ExecuteTime": {
     "end_time": "2023-06-12T02:47:23.037865200Z",
     "start_time": "2023-06-12T02:47:19.289199700Z"
    }
   }
  },
  {
   "cell_type": "markdown",
   "source": [
    "When provided with the relevant context we see that the 'hallucination' problem is greatly mitigated, however, we do see that the model is copying the information within the context verbatim, which is a major limitation of this approach."
   ],
   "metadata": {
    "collapsed": false
   }
  },
  {
   "cell_type": "markdown",
   "source": [
    "### Card not in vector database"
   ],
   "metadata": {
    "collapsed": false
   }
  },
  {
   "cell_type": "code",
   "execution_count": 75,
   "outputs": [
    {
     "data": {
      "text/plain": "'Underworld Dreams is a generic card in Flesh and Blood that belongs to the class of Shadow. It is an action card that costs 2 resources to play and requires a pitch of 1 Shadow. The card has no defence value and no power value.\\n\\nThe ability of Underworld Dreams is as follows: \"At the beginning of your end phase, if Underworld Dreams is in your graveyard, you may banish it. If you do, each hero discards a card.\"\\n\\nThis ability allows the player to use the card multiple times if it is repeatedly put into the graveyard and then banished. The effect of forcing each hero to discard a card can be a powerful disruption tool, especially if used at the right time to disrupt the opponent\\'s strategy.\\n\\nOverall, Underworld Dreams is a useful card for Shadow decks that want to disrupt their opponent\\'s hand and gain an advantage in the game.'"
     },
     "execution_count": 75,
     "metadata": {},
     "output_type": "execute_result"
    }
   ],
   "source": [
    "answer_query(query='In the card game Flesh and Blood, what does the card '\n",
    "                   'Underworld Dreams do? '\n",
    "                   'Make sure to include information when appropriate for the '\n",
    "                   'class, card type, cost, pitch, defence, power, and any abilities.',\n",
    "             dataframe=df,\n",
    "             document_embeddings=document_embedding,\n",
    "             use_embedding=False)"
   ],
   "metadata": {
    "collapsed": false,
    "ExecuteTime": {
     "end_time": "2023-06-12T02:47:30.714217100Z",
     "start_time": "2023-06-12T02:47:23.038866500Z"
    }
   }
  },
  {
   "cell_type": "code",
   "execution_count": 76,
   "outputs": [
    {
     "name": "stdout",
     "output_type": "stream",
     "text": [
      "Selected 2 document sections:\n",
      "Sink Below (Red)\n",
      "Sink Below (Blue)\n"
     ]
    },
    {
     "data": {
      "text/plain": "\"I don't know.\""
     },
     "execution_count": 76,
     "metadata": {},
     "output_type": "execute_result"
    }
   ],
   "source": [
    "answer_query(query='In the card game Flesh and Blood, what does the card '\n",
    "                   'Underworld Dreams do? '\n",
    "                   'Make sure to include information when appropriate for the '\n",
    "                   'class, card type, cost, pitch, defence, power, and any abilities.',\n",
    "             dataframe=df,\n",
    "             document_embeddings=document_embedding,\n",
    "             use_embedding=True)"
   ],
   "metadata": {
    "collapsed": false,
    "ExecuteTime": {
     "end_time": "2023-06-12T02:47:32.472478600Z",
     "start_time": "2023-06-12T02:47:30.716215600Z"
    }
   }
  },
  {
   "cell_type": "markdown",
   "source": [
    "We can see the vector similarity at work as logically we can imagine 'Underworld Dreams' as relatively close to 'Sink Below'."
   ],
   "metadata": {
    "collapsed": false
   }
  },
  {
   "cell_type": "markdown",
   "source": [
    "### Natural Language"
   ],
   "metadata": {
    "collapsed": false
   }
  },
  {
   "cell_type": "code",
   "execution_count": 78,
   "outputs": [
    {
     "name": "stdout",
     "output_type": "stream",
     "text": [
      "Selected 2 document sections:\n",
      "Ancestral Empowerment\n",
      "Emerging Power (Blue)\n"
     ]
    },
    {
     "data": {
      "text/plain": "\"Ancestral Empowerment is a card in the Flesh and Blood card game that belongs to the Ninja class and is an Attack Reaction card from the 'Welcome to Rathe' set. It costs 0 to play and can be pitched for 1. It has a defence value of 3 and no power. The card has the ability to give a target Ninja attack action card +1{p} and allows the player to draw a card.\""
     },
     "execution_count": 78,
     "metadata": {},
     "output_type": "execute_result"
    }
   ],
   "source": [
    "answer_query(query='In the card game Flesh and Blood, what does the card '\n",
    "                   'Ancestral Empowerment do? '\n",
    "                   'Make sure to include information when appropriate for the '\n",
    "                   'class, card type, cost, pitch, defence, power, and any abilities.'\n",
    "                   'Do not copy the context verbatim but present the information with natural language.',\n",
    "             dataframe=df,\n",
    "             document_embeddings=document_embedding,\n",
    "             use_embedding=True)"
   ],
   "metadata": {
    "collapsed": false,
    "ExecuteTime": {
     "end_time": "2023-06-12T02:51:52.163416Z",
     "start_time": "2023-06-12T02:51:47.120090800Z"
    }
   }
  },
  {
   "cell_type": "markdown",
   "source": [
    "Prompt engineering can be used to prevent model from copying verbatim and report what a card's functionality in a more natural manner. Note that some minor issues are still present with loss of symbolic effects such as {p} representing the power icon."
   ],
   "metadata": {
    "collapsed": false
   }
  }
 ],
 "metadata": {
  "kernelspec": {
   "display_name": "Python 3",
   "language": "python",
   "name": "python3"
  },
  "language_info": {
   "codemirror_mode": {
    "name": "ipython",
    "version": 2
   },
   "file_extension": ".py",
   "mimetype": "text/x-python",
   "name": "python",
   "nbconvert_exporter": "python",
   "pygments_lexer": "ipython2",
   "version": "2.7.6"
  }
 },
 "nbformat": 4,
 "nbformat_minor": 0
}
